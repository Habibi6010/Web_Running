{
 "cells": [
  {
   "cell_type": "code",
   "execution_count": 3,
   "id": "545679ec",
   "metadata": {},
   "outputs": [],
   "source": [
    "import os\n",
    "import datetime\n",
    "VIDEO_SAVE_PATH = 'received_videos/'\n",
    "# Define a directory to save the analyzed video files\n",
    "ANALYZED_VIDEO_SAVE_PATH = 'analyzed_video_file/'"
   ]
  },
  {
   "cell_type": "code",
   "execution_count": 20,
   "id": "38b68653",
   "metadata": {},
   "outputs": [
    {
     "name": "stdout",
     "output_type": "stream",
     "text": [
      "Found 10 video files for user habibi6010@gmail.com.\n",
      "Uploaded videos data: [{'video_name': 'New_professional_runner.mp4', 'timestamp': '2025-06-25 15:44:06', 'video_link': 'download_video/received_videos/habibi6010@gmail.com/20250625154406_New_professional_runner.mp4', 'result_link': ['download_video/analyzed_video_file/habibi6010@gmail.com/20250625154406_New_professional_runner.mp4_0/fixed_output.mp4', 'download_video/analyzed_video_file/habibi6010@gmail.com/20250625154406_New_professional_runner.mp4_1/fixed_output.mp4']}, {'video_name': 'New_professional_runner.mp4', 'timestamp': '2025-06-26 10:24:25', 'video_link': 'download_video/received_videos/habibi6010@gmail.com/20250626102425_New_professional_runner.mp4', 'result_link': ['download_video/analyzed_video_file/habibi6010@gmail.com/20250626102425_New_professional_runner.mp4_0/fixed_output.mp4']}, {'video_name': 'New_professional_runner.mp4', 'timestamp': '2025-06-26 12:48:13', 'video_link': 'download_video/received_videos/habibi6010@gmail.com/20250626124813_New_professional_runner.mp4', 'result_link': ['download_video/analyzed_video_file/habibi6010@gmail.com/20250626124813_New_professional_runner.mp4_0/fixed_output.mp4', 'download_video/analyzed_video_file/habibi6010@gmail.com/20250626124813_New_professional_runner.mp4_1/fixed_output.mp4']}, {'video_name': 'New_professional_runner.mp4', 'timestamp': '2025-06-26 12:56:46', 'video_link': 'download_video/received_videos/habibi6010@gmail.com/20250626125646_New_professional_runner.mp4', 'result_link': ['download_video/analyzed_video_file/habibi6010@gmail.com/20250626125646_New_professional_runner.mp4_0/fixed_output.mp4']}, {'video_name': 'New_professional_runner.mp4', 'timestamp': '2025-06-26 13:01:20', 'video_link': 'download_video/received_videos/habibi6010@gmail.com/20250626130120_New_professional_runner.mp4', 'result_link': []}, {'video_name': 'New_professional_runner.mp4', 'timestamp': '2025-06-26 13:05:12', 'video_link': 'download_video/received_videos/habibi6010@gmail.com/20250626130512_New_professional_runner.mp4', 'result_link': []}, {'video_name': 'New_professional_runner.mp4', 'timestamp': '2025-06-26 13:06:37', 'video_link': 'download_video/received_videos/habibi6010@gmail.com/20250626130637_New_professional_runner.mp4', 'result_link': []}, {'video_name': 'New_professional_runner.mp4', 'timestamp': '2025-06-26 13:07:57', 'video_link': 'download_video/received_videos/habibi6010@gmail.com/20250626130757_New_professional_runner.mp4', 'result_link': []}, {'video_name': 'New_professional_runner.mp4', 'timestamp': '2025-06-26 13:10:18', 'video_link': 'download_video/received_videos/habibi6010@gmail.com/20250626131018_New_professional_runner.mp4', 'result_link': []}, {'video_name': 'New_professional_runner.mp4', 'timestamp': '2025-06-26 13:11:56', 'video_link': 'download_video/received_videos/habibi6010@gmail.com/20250626131156_New_professional_runner.mp4', 'result_link': []}]\n"
     ]
    }
   ],
   "source": [
    "\n",
    "username = \"habibi6010@gmail.com\"\n",
    "# print(f\"Username:{username}\")\n",
    "# VIDEO_SAVE_PATH\n",
    "# ANALYZED_VIDEO_SAVE_PATH\n",
    "user_video_path = f\"{VIDEO_SAVE_PATH}{username}\"\n",
    "analyzed_user_video_path = f\"{ANALYZED_VIDEO_SAVE_PATH}{username}\"\n",
    "if not os.path.exists(user_video_path):\n",
    "     print(f\"User video folder does not exist: {user_video_path}\")\n",
    "    \n",
    "video_extensions = ('.mp4', '.avi', '.mov', '.mkv')\n",
    "video_files = [f for f in os.listdir(user_video_path) if f.lower().endswith(video_extensions)]\n",
    "print(f\"Found {len(video_files)} video files for user {username}.\")\n",
    "# print(f\"Video files: {video_files}\")\n",
    "uploaded_videos = []\n",
    "for video_file in video_files:\n",
    "        parts = video_file.split('_',1)\n",
    "        video_name = parts[1] if len(parts) > 1 else video_file\n",
    "        timestamp_str = parts[0]\n",
    "        try:\n",
    "            timestamp = datetime.datetime.strptime(timestamp_str, \"%Y%m%d%H%M%S\")\n",
    "            formatted_time = timestamp.strftime(\"%Y-%m-%d %H:%M:%S\")\n",
    "        except ValueError:\n",
    "            formatted_time = \"Unknown\"\n",
    "        \n",
    "        # print(f\"Processing video file: {video_file} with timestamp: {formatted_time} and name: {video_name}\")\n",
    "        video_link = f\"download_video/{user_video_path}/{video_file}\"\n",
    "        # print(f\"User video path: {video_link}\")\n",
    "\n",
    "        result_folders = os.listdir(analyzed_user_video_path)\n",
    "        result_link = []\n",
    "        for folder in result_folders:\n",
    "            if video_file in folder:\n",
    "                result_path = analyzed_user_video_path + \"/\" + folder\n",
    "                result_link.append(f\"download_video/{result_path}/fixed_output.mp4\")\n",
    "\n",
    "        uploaded_videos.append({\n",
    "            'video_name': video_name,\n",
    "            'timestamp': formatted_time,\n",
    "            'video_link': video_link,\n",
    "            'result_link': result_link\n",
    "        })\n",
    "        \n",
    "print(f\"Uploaded videos data: {uploaded_videos}\")\n"
   ]
  }
 ],
 "metadata": {
  "kernelspec": {
   "display_name": "Python 3",
   "language": "python",
   "name": "python3"
  },
  "language_info": {
   "codemirror_mode": {
    "name": "ipython",
    "version": 3
   },
   "file_extension": ".py",
   "mimetype": "text/x-python",
   "name": "python",
   "nbconvert_exporter": "python",
   "pygments_lexer": "ipython3",
   "version": "3.10.16"
  }
 },
 "nbformat": 4,
 "nbformat_minor": 5
}
